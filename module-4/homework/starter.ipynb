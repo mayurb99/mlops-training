{
 "cells": [
  {
   "cell_type": "code",
   "execution_count": 2,
   "id": "2c51efaa",
   "metadata": {},
   "outputs": [
    {
     "name": "stdout",
     "output_type": "stream",
     "text": [
      "scikit-learn==1.5.0\n"
     ]
    }
   ],
   "source": [
    "!pip freeze | grep scikit-learn"
   ]
  },
  {
   "cell_type": "code",
   "execution_count": 3,
   "id": "4acf73a0-51b5-4663-9bb8-8eb947863e17",
   "metadata": {},
   "outputs": [
    {
     "name": "stdout",
     "output_type": "stream",
     "text": [
      "Python 3.12.3\n"
     ]
    }
   ],
   "source": [
    "!python -V"
   ]
  },
  {
   "cell_type": "code",
   "execution_count": 1,
   "id": "f04b56a6-746a-4e42-883e-9cdf2353d6e7",
   "metadata": {},
   "outputs": [],
   "source": [
    "!mkdir output"
   ]
  },
  {
   "cell_type": "code",
   "execution_count": 2,
   "id": "0ef880a0",
   "metadata": {},
   "outputs": [],
   "source": [
    "import pickle\n",
    "import pandas as pd"
   ]
  },
  {
   "cell_type": "markdown",
   "id": "13b079ed-becb-426a-91a4-2d3e1f584d3b",
   "metadata": {},
   "source": [
    "### Creating input and output variables"
   ]
  },
  {
   "cell_type": "code",
   "execution_count": 3,
   "id": "17c57e43-80a4-4fb5-8a1b-34b77e3c7d35",
   "metadata": {},
   "outputs": [],
   "source": [
    "year = 2023\n",
    "month = 3\n",
    "input_file = f'https://d37ci6vzurychx.cloudfront.net/trip-data/yellow_tripdata_{year:04d}-{month:02d}.parquet'\n",
    "output_file = f'output/yellow_tripdata_{year:04d}-{month:02d}.parquet'"
   ]
  },
  {
   "cell_type": "code",
   "execution_count": 4,
   "id": "7836ccfd",
   "metadata": {},
   "outputs": [
    {
     "name": "stderr",
     "output_type": "stream",
     "text": [
      "/home/ubuntu/anaconda3/lib/python3.11/site-packages/sklearn/base.py:318: UserWarning: Trying to unpickle estimator DictVectorizer from version 1.5.0 when using version 1.2.2. This might lead to breaking code or invalid results. Use at your own risk. For more info please refer to:\n",
      "https://scikit-learn.org/stable/model_persistence.html#security-maintainability-limitations\n",
      "  warnings.warn(\n",
      "/home/ubuntu/anaconda3/lib/python3.11/site-packages/sklearn/base.py:318: UserWarning: Trying to unpickle estimator LinearRegression from version 1.5.0 when using version 1.2.2. This might lead to breaking code or invalid results. Use at your own risk. For more info please refer to:\n",
      "https://scikit-learn.org/stable/model_persistence.html#security-maintainability-limitations\n",
      "  warnings.warn(\n"
     ]
    }
   ],
   "source": [
    "with open('model.bin', 'rb') as f_in:\n",
    "    dv, model = pickle.load(f_in)"
   ]
  },
  {
   "cell_type": "code",
   "execution_count": 6,
   "id": "41c08294",
   "metadata": {},
   "outputs": [],
   "source": [
    "categorical = ['PULocationID', 'DOLocationID']\n",
    "\n",
    "def read_data(filename):\n",
    "    df = pd.read_parquet(filename)\n",
    "    \n",
    "    df['duration'] = df.tpep_dropoff_datetime - df.tpep_pickup_datetime\n",
    "    df['duration'] = df.duration.dt.total_seconds() / 60\n",
    "\n",
    "    df = df[(df.duration >= 1) & (df.duration <= 60)].copy()\n",
    "\n",
    "    df[categorical] = df[categorical].fillna(-1).astype('int').astype('str')\n",
    "    \n",
    "    return df"
   ]
  },
  {
   "cell_type": "code",
   "execution_count": 7,
   "id": "4854399a",
   "metadata": {},
   "outputs": [],
   "source": [
    "df = read_data(input_file)"
   ]
  },
  {
   "cell_type": "markdown",
   "id": "3819c27a-82bc-43bb-ac47-a8443f679439",
   "metadata": {},
   "source": [
    "### Creating  an artificial ride_id column:"
   ]
  },
  {
   "cell_type": "code",
   "execution_count": 9,
   "id": "3c7acf62-f1c2-4f62-a2ed-ffccbb73e064",
   "metadata": {},
   "outputs": [],
   "source": [
    "df['ride_id'] = f'{year:04d}/{month:02d}_' + df.index.astype('str')"
   ]
  },
  {
   "cell_type": "code",
   "execution_count": 11,
   "id": "669fda0a",
   "metadata": {},
   "outputs": [],
   "source": [
    "dicts = df[categorical].to_dict(orient='records')\n",
    "X_val = dv.transform(dicts)\n",
    "y_pred = model.predict(X_val)"
   ]
  },
  {
   "cell_type": "code",
   "execution_count": 14,
   "id": "40d4da81-0f69-4b62-b836-6fff8969037d",
   "metadata": {},
   "outputs": [
    {
     "data": {
      "text/html": [
       "<div>\n",
       "<style scoped>\n",
       "    .dataframe tbody tr th:only-of-type {\n",
       "        vertical-align: middle;\n",
       "    }\n",
       "\n",
       "    .dataframe tbody tr th {\n",
       "        vertical-align: top;\n",
       "    }\n",
       "\n",
       "    .dataframe thead th {\n",
       "        text-align: right;\n",
       "    }\n",
       "</style>\n",
       "<table border=\"1\" class=\"dataframe\">\n",
       "  <thead>\n",
       "    <tr style=\"text-align: right;\">\n",
       "      <th></th>\n",
       "      <th>VendorID</th>\n",
       "      <th>tpep_pickup_datetime</th>\n",
       "      <th>tpep_dropoff_datetime</th>\n",
       "      <th>passenger_count</th>\n",
       "      <th>trip_distance</th>\n",
       "      <th>RatecodeID</th>\n",
       "      <th>store_and_fwd_flag</th>\n",
       "      <th>PULocationID</th>\n",
       "      <th>DOLocationID</th>\n",
       "      <th>payment_type</th>\n",
       "      <th>...</th>\n",
       "      <th>extra</th>\n",
       "      <th>mta_tax</th>\n",
       "      <th>tip_amount</th>\n",
       "      <th>tolls_amount</th>\n",
       "      <th>improvement_surcharge</th>\n",
       "      <th>total_amount</th>\n",
       "      <th>congestion_surcharge</th>\n",
       "      <th>Airport_fee</th>\n",
       "      <th>duration</th>\n",
       "      <th>ride_id</th>\n",
       "    </tr>\n",
       "  </thead>\n",
       "  <tbody>\n",
       "    <tr>\n",
       "      <th>0</th>\n",
       "      <td>2</td>\n",
       "      <td>2023-03-01 00:06:43</td>\n",
       "      <td>2023-03-01 00:16:43</td>\n",
       "      <td>1.0</td>\n",
       "      <td>0.00</td>\n",
       "      <td>1.0</td>\n",
       "      <td>N</td>\n",
       "      <td>238</td>\n",
       "      <td>42</td>\n",
       "      <td>2</td>\n",
       "      <td>...</td>\n",
       "      <td>1.0</td>\n",
       "      <td>0.5</td>\n",
       "      <td>0.00</td>\n",
       "      <td>0.0</td>\n",
       "      <td>1.0</td>\n",
       "      <td>11.10</td>\n",
       "      <td>0.0</td>\n",
       "      <td>0.00</td>\n",
       "      <td>10.000000</td>\n",
       "      <td>2023/03_0</td>\n",
       "    </tr>\n",
       "    <tr>\n",
       "      <th>1</th>\n",
       "      <td>2</td>\n",
       "      <td>2023-03-01 00:08:25</td>\n",
       "      <td>2023-03-01 00:39:30</td>\n",
       "      <td>2.0</td>\n",
       "      <td>12.40</td>\n",
       "      <td>1.0</td>\n",
       "      <td>N</td>\n",
       "      <td>138</td>\n",
       "      <td>231</td>\n",
       "      <td>1</td>\n",
       "      <td>...</td>\n",
       "      <td>6.0</td>\n",
       "      <td>0.5</td>\n",
       "      <td>12.54</td>\n",
       "      <td>0.0</td>\n",
       "      <td>1.0</td>\n",
       "      <td>76.49</td>\n",
       "      <td>2.5</td>\n",
       "      <td>1.25</td>\n",
       "      <td>31.083333</td>\n",
       "      <td>2023/03_1</td>\n",
       "    </tr>\n",
       "    <tr>\n",
       "      <th>2</th>\n",
       "      <td>1</td>\n",
       "      <td>2023-03-01 00:15:04</td>\n",
       "      <td>2023-03-01 00:29:26</td>\n",
       "      <td>0.0</td>\n",
       "      <td>3.30</td>\n",
       "      <td>1.0</td>\n",
       "      <td>N</td>\n",
       "      <td>140</td>\n",
       "      <td>186</td>\n",
       "      <td>1</td>\n",
       "      <td>...</td>\n",
       "      <td>3.5</td>\n",
       "      <td>0.5</td>\n",
       "      <td>4.65</td>\n",
       "      <td>0.0</td>\n",
       "      <td>1.0</td>\n",
       "      <td>28.05</td>\n",
       "      <td>2.5</td>\n",
       "      <td>0.00</td>\n",
       "      <td>14.366667</td>\n",
       "      <td>2023/03_2</td>\n",
       "    </tr>\n",
       "    <tr>\n",
       "      <th>3</th>\n",
       "      <td>1</td>\n",
       "      <td>2023-03-01 00:49:37</td>\n",
       "      <td>2023-03-01 01:01:05</td>\n",
       "      <td>1.0</td>\n",
       "      <td>2.90</td>\n",
       "      <td>1.0</td>\n",
       "      <td>N</td>\n",
       "      <td>140</td>\n",
       "      <td>43</td>\n",
       "      <td>1</td>\n",
       "      <td>...</td>\n",
       "      <td>3.5</td>\n",
       "      <td>0.5</td>\n",
       "      <td>4.10</td>\n",
       "      <td>0.0</td>\n",
       "      <td>1.0</td>\n",
       "      <td>24.70</td>\n",
       "      <td>2.5</td>\n",
       "      <td>0.00</td>\n",
       "      <td>11.466667</td>\n",
       "      <td>2023/03_3</td>\n",
       "    </tr>\n",
       "    <tr>\n",
       "      <th>4</th>\n",
       "      <td>2</td>\n",
       "      <td>2023-03-01 00:08:04</td>\n",
       "      <td>2023-03-01 00:11:06</td>\n",
       "      <td>1.0</td>\n",
       "      <td>1.23</td>\n",
       "      <td>1.0</td>\n",
       "      <td>N</td>\n",
       "      <td>79</td>\n",
       "      <td>137</td>\n",
       "      <td>1</td>\n",
       "      <td>...</td>\n",
       "      <td>1.0</td>\n",
       "      <td>0.5</td>\n",
       "      <td>2.44</td>\n",
       "      <td>0.0</td>\n",
       "      <td>1.0</td>\n",
       "      <td>14.64</td>\n",
       "      <td>2.5</td>\n",
       "      <td>0.00</td>\n",
       "      <td>3.033333</td>\n",
       "      <td>2023/03_4</td>\n",
       "    </tr>\n",
       "  </tbody>\n",
       "</table>\n",
       "<p>5 rows × 21 columns</p>\n",
       "</div>"
      ],
      "text/plain": [
       "   VendorID tpep_pickup_datetime tpep_dropoff_datetime  passenger_count  \\\n",
       "0         2  2023-03-01 00:06:43   2023-03-01 00:16:43              1.0   \n",
       "1         2  2023-03-01 00:08:25   2023-03-01 00:39:30              2.0   \n",
       "2         1  2023-03-01 00:15:04   2023-03-01 00:29:26              0.0   \n",
       "3         1  2023-03-01 00:49:37   2023-03-01 01:01:05              1.0   \n",
       "4         2  2023-03-01 00:08:04   2023-03-01 00:11:06              1.0   \n",
       "\n",
       "   trip_distance  RatecodeID store_and_fwd_flag PULocationID DOLocationID  \\\n",
       "0           0.00         1.0                  N          238           42   \n",
       "1          12.40         1.0                  N          138          231   \n",
       "2           3.30         1.0                  N          140          186   \n",
       "3           2.90         1.0                  N          140           43   \n",
       "4           1.23         1.0                  N           79          137   \n",
       "\n",
       "   payment_type  ...  extra  mta_tax  tip_amount  tolls_amount  \\\n",
       "0             2  ...    1.0      0.5        0.00           0.0   \n",
       "1             1  ...    6.0      0.5       12.54           0.0   \n",
       "2             1  ...    3.5      0.5        4.65           0.0   \n",
       "3             1  ...    3.5      0.5        4.10           0.0   \n",
       "4             1  ...    1.0      0.5        2.44           0.0   \n",
       "\n",
       "   improvement_surcharge  total_amount  congestion_surcharge  Airport_fee  \\\n",
       "0                    1.0         11.10                   0.0         0.00   \n",
       "1                    1.0         76.49                   2.5         1.25   \n",
       "2                    1.0         28.05                   2.5         0.00   \n",
       "3                    1.0         24.70                   2.5         0.00   \n",
       "4                    1.0         14.64                   2.5         0.00   \n",
       "\n",
       "    duration    ride_id  \n",
       "0  10.000000  2023/03_0  \n",
       "1  31.083333  2023/03_1  \n",
       "2  14.366667  2023/03_2  \n",
       "3  11.466667  2023/03_3  \n",
       "4   3.033333  2023/03_4  \n",
       "\n",
       "[5 rows x 21 columns]"
      ]
     },
     "execution_count": 14,
     "metadata": {},
     "output_type": "execute_result"
    }
   ],
   "source": [
    "df.head()"
   ]
  },
  {
   "cell_type": "markdown",
   "id": "5574d41b-2396-4c05-a60b-e763773152b3",
   "metadata": {},
   "source": [
    "\n",
    "## Q1. Notebook\n",
    "\n",
    "[](https://github.com/DataTalksClub/mlops-zoomcamp/blob/main/cohorts/2024/04-deployment/homework.md#q1-notebook)\n",
    "\n",
    "We'll start with the same notebook we ended up with in homework 1. We cleaned it a little bit and kept only the scoring part. You can find the initial notebook  [here](https://github.com/DataTalksClub/mlops-zoomcamp/blob/main/cohorts/2024/04-deployment/homework/starter.ipynb).\n",
    "\n",
    "Run this notebook for the March 2023 data.\n",
    "\n",
    "What's the standard deviation of the predicted duration for this dataset?\n",
    "\n",
    "-   1.24\n",
    "-   6.24\n",
    "-   12.28\n",
    "-   18.28\n",
    "\n",
    "## ANS - 6.24"
   ]
  },
  {
   "cell_type": "code",
   "execution_count": 12,
   "id": "bf532ae7-1897-428c-ba0c-875ccaf7d76c",
   "metadata": {},
   "outputs": [
    {
     "data": {
      "text/plain": [
       "6.247488852238703"
      ]
     },
     "execution_count": 12,
     "metadata": {},
     "output_type": "execute_result"
    }
   ],
   "source": [
    "y_pred.std()"
   ]
  },
  {
   "cell_type": "markdown",
   "id": "621ba102-8fa9-4a65-9551-d6a97f25c25a",
   "metadata": {},
   "source": [
    "\n",
    "## Q2. Preparing the output\n",
    "\n",
    "[](https://github.com/DataTalksClub/mlops-zoomcamp/blob/main/cohorts/2024/04-deployment/homework.md#q2-preparing-the-output)\n",
    "\n",
    "Like in the course videos, we want to prepare the dataframe with the output.\n",
    "\n",
    "First, let's create an artificial  `ride_id`  column:\n",
    "\n",
    "df['ride_id'] = f'{year:04d}/{month:02d}_' + df.index.astype('str')\n",
    "\n",
    "Next, write the ride id and the predictions to a dataframe with results.\n",
    "\n",
    "Save it as parquet:\n",
    "\n",
    "df_result.to_parquet(\n",
    "    output_file,\n",
    "    engine='pyarrow',\n",
    "    compression=None,\n",
    "    index=False\n",
    ")\n",
    "\n",
    "What's the size of the output file?\n",
    "\n",
    "-   36M\n",
    "-   46M\n",
    "-   56M\n",
    "-   66M\n",
    "\n",
    "## ANS - 66M"
   ]
  },
  {
   "cell_type": "code",
   "execution_count": 15,
   "id": "c6f6f4c1-e6aa-4626-9534-5ee1493d801f",
   "metadata": {},
   "outputs": [],
   "source": [
    "df_result = pd.DataFrame()\n",
    "df_result['ride_id']=df['ride_id']\n",
    "df_result['predicted_duration'] = y_pred"
   ]
  },
  {
   "cell_type": "code",
   "execution_count": 16,
   "id": "4d035bd9-e1e8-4f0a-8410-60db83f45858",
   "metadata": {},
   "outputs": [
    {
     "data": {
      "text/html": [
       "<div>\n",
       "<style scoped>\n",
       "    .dataframe tbody tr th:only-of-type {\n",
       "        vertical-align: middle;\n",
       "    }\n",
       "\n",
       "    .dataframe tbody tr th {\n",
       "        vertical-align: top;\n",
       "    }\n",
       "\n",
       "    .dataframe thead th {\n",
       "        text-align: right;\n",
       "    }\n",
       "</style>\n",
       "<table border=\"1\" class=\"dataframe\">\n",
       "  <thead>\n",
       "    <tr style=\"text-align: right;\">\n",
       "      <th></th>\n",
       "      <th>ride_id</th>\n",
       "      <th>predicted_duration</th>\n",
       "    </tr>\n",
       "  </thead>\n",
       "  <tbody>\n",
       "    <tr>\n",
       "      <th>0</th>\n",
       "      <td>2023/03_0</td>\n",
       "      <td>16.245906</td>\n",
       "    </tr>\n",
       "    <tr>\n",
       "      <th>1</th>\n",
       "      <td>2023/03_1</td>\n",
       "      <td>26.134796</td>\n",
       "    </tr>\n",
       "    <tr>\n",
       "      <th>2</th>\n",
       "      <td>2023/03_2</td>\n",
       "      <td>11.884264</td>\n",
       "    </tr>\n",
       "    <tr>\n",
       "      <th>3</th>\n",
       "      <td>2023/03_3</td>\n",
       "      <td>11.997720</td>\n",
       "    </tr>\n",
       "    <tr>\n",
       "      <th>4</th>\n",
       "      <td>2023/03_4</td>\n",
       "      <td>10.234486</td>\n",
       "    </tr>\n",
       "  </tbody>\n",
       "</table>\n",
       "</div>"
      ],
      "text/plain": [
       "     ride_id  predicted_duration\n",
       "0  2023/03_0           16.245906\n",
       "1  2023/03_1           26.134796\n",
       "2  2023/03_2           11.884264\n",
       "3  2023/03_3           11.997720\n",
       "4  2023/03_4           10.234486"
      ]
     },
     "execution_count": 16,
     "metadata": {},
     "output_type": "execute_result"
    }
   ],
   "source": [
    "df_result.head()"
   ]
  },
  {
   "cell_type": "code",
   "execution_count": 17,
   "id": "31c93cf1-2715-489f-b95f-998e8b73d3a3",
   "metadata": {},
   "outputs": [],
   "source": [
    "\n",
    "df_result.to_parquet( output_file, engine='pyarrow', compression=None, index=False )"
   ]
  },
  {
   "cell_type": "code",
   "execution_count": 19,
   "id": "5200ba35-3354-4175-a208-99660d8d6dbc",
   "metadata": {},
   "outputs": [
    {
     "name": "stdout",
     "output_type": "stream",
     "text": [
      ".  ..  yellow_tripdata_2023-03.parquet\n"
     ]
    }
   ],
   "source": [
    "!ls -a output/"
   ]
  },
  {
   "cell_type": "code",
   "execution_count": 21,
   "id": "b83297fb-5544-4ab6-a1e9-2b7c68807c35",
   "metadata": {},
   "outputs": [
    {
     "name": "stdout",
     "output_type": "stream",
     "text": [
      "66M\t./output/yellow_tripdata_2023-03.parquet\n"
     ]
    }
   ],
   "source": [
    "!du -h ./output/yellow_tripdata_2023-03.parquet"
   ]
  },
  {
   "cell_type": "markdown",
   "id": "487fd092-31ad-4640-8929-19fe04ef6bda",
   "metadata": {},
   "source": [
    "\n",
    "## Q3. Creating the scoring script\n",
    "\n",
    "[](https://github.com/DataTalksClub/mlops-zoomcamp/blob/main/cohorts/2024/04-deployment/homework.md#q3-creating-the-scoring-script)\n",
    "\n",
    "Now let's turn the notebook into a script.\n",
    "\n",
    "Which command you need to execute for that?\n",
    "\n",
    "## ANS - jupyter nbconvert --to script starter.ipynb "
   ]
  },
  {
   "cell_type": "code",
   "execution_count": 24,
   "id": "da95ef48-f82d-4c16-be39-1d3671c9dd42",
   "metadata": {},
   "outputs": [
    {
     "name": "stdout",
     "output_type": "stream",
     "text": [
      "[NbConvertApp] Converting notebook starter.ipynb to script\n",
      "[NbConvertApp] Writing 3469 bytes to starter.py\n"
     ]
    }
   ],
   "source": [
    "!jupyter nbconvert --to script starter.ipynb"
   ]
  },
  {
   "cell_type": "code",
   "execution_count": 25,
   "id": "12584f0c-f908-4360-9f58-7c84a0738baa",
   "metadata": {},
   "outputs": [
    {
     "name": "stdout",
     "output_type": "stream",
     "text": [
      "model.bin  output  starter.ipynb  starter.py\n"
     ]
    }
   ],
   "source": [
    "!ls "
   ]
  },
  {
   "cell_type": "markdown",
   "id": "455da0fe-053a-415c-afab-8829ad674fa7",
   "metadata": {},
   "source": [
    "\n",
    "## Q4. Virtual environment\n",
    "\n",
    "[](https://github.com/DataTalksClub/mlops-zoomcamp/blob/main/cohorts/2024/04-deployment/homework.md#q4-virtual-environment)\n",
    "\n",
    "Now let's put everything into a virtual environment. We'll use pipenv for that.\n",
    "\n",
    "Install all the required libraries. Pay attention to the Scikit-Learn version: it should be the same as in the starter notebook.\n",
    "\n",
    "After installing the libraries, pipenv creates two files:  `Pipfile`  and  `Pipfile.lock`. The  `Pipfile.lock`  file keeps the hashes of the dependencies we use for the virtual env.\n",
    "\n",
    "What's the first hash for the Scikit-Learn dependency?\n",
    "\n",
    "## ANS - sha256:057b991ac64b3e75c9c04b5f9395eaf19a6179244c089afdebaad98264bff37c "
   ]
  },
  {
   "cell_type": "markdown",
   "id": "01e3b4e2",
   "metadata": {},
   "source": [
    "\n",
    "## Q5. Parametrize the script\n",
    "\n",
    "[](https://github.com/DataTalksClub/mlops-zoomcamp/blob/main/cohorts/2024/04-deployment/homework.md#q5-parametrize-the-script)\n",
    "\n",
    "Let's now make the script configurable via CLI. We'll create two parameters: year and month.\n",
    "\n",
    "Run the script for April 2023.\n",
    "\n",
    "What's the mean predicted duration?\n",
    "\n",
    "-   7.29\n",
    "-   14.29\n",
    "-   21.29\n",
    "-   28.29\n",
    "\n",
    "Hint: just add a print statement to your script.\n",
    "\n",
    "## ANS - 14.29\n",
    "\n"
   ]
  },
  {
   "cell_type": "markdown",
   "id": "b2ca3fc7",
   "metadata": {},
   "source": [
    "\n",
    "## Q6. Docker container\n",
    "\n",
    "[](https://github.com/DataTalksClub/mlops-zoomcamp/blob/main/cohorts/2024/04-deployment/homework.md#q6-docker-container)\n",
    "\n",
    "Finally, we'll package the script in the docker container. For that, you'll need to use a base image that we prepared.\n",
    "\n",
    "This is what the content of this image is:\n",
    "\n",
    "FROM python:3.10.13-slim\n",
    "\n",
    "WORKDIR /app\n",
    "COPY [ \"model2.bin\", \"model.bin\" ]\n",
    "\n",
    "Note: you don't need to run it. We have already done it.\n",
    "\n",
    "It is pushed to  [`agrigorev/zoomcamp-model:mlops-2024-3.10.13-slim`](https://hub.docker.com/layers/agrigorev/zoomcamp-model/mlops-2024-3.10.13-slim/images/sha256-f54535b73a8c3ef91967d5588de57d4e251b22addcbbfb6e71304a91c1c7027f?context=repo), which you need to use as your base image.\n",
    "\n",
    "That is, your Dockerfile should start with:\n",
    "\n",
    "FROM agrigorev/zoomcamp-model:mlops-2024-3.10.13-slim\n",
    "\n",
    "This image already has a pickle file with a dictionary vectorizer and a model. You will need to use them.\n",
    "\n",
    "Important: don't copy the model to the docker image. You will need to use the pickle file already in the image.\n",
    "\n",
    "Now run the script with docker. What's the mean predicted duration for May 2023?\n",
    "\n",
    "-   0.19\n",
    "-   7.24\n",
    "-   14.24\n",
    "-   21.19\n",
    "\n",
    "## ANS - 0.19"
   ]
  }
 ],
 "metadata": {
  "kernelspec": {
   "display_name": "Python 3 (ipykernel)",
   "language": "python",
   "name": "python3"
  },
  "language_info": {
   "codemirror_mode": {
    "name": "ipython",
    "version": 3
   },
   "file_extension": ".py",
   "mimetype": "text/x-python",
   "name": "python",
   "nbconvert_exporter": "python",
   "pygments_lexer": "ipython3",
   "version": "3.11.7"
  }
 },
 "nbformat": 4,
 "nbformat_minor": 5
}
