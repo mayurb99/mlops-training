{
 "cells": [
  {
   "cell_type": "code",
   "execution_count": 1,
   "metadata": {
    "id": "0D3XBKmjiCou"
   },
   "outputs": [],
   "source": [
    "import pandas as pd\n",
    "import seaborn as sns  # for visualization\n",
    "import matplotlib.pyplot as plt  # for visualization\n",
    "from sklearn.feature_extraction import DictVectorizer  # to create vector from dict\n",
    "from sklearn.linear_model import LinearRegression  # model\n",
    "from sklearn.metrics import mean_squared_error  # for calculating diff in actual and predicted"
   ]
  },
  {
   "cell_type": "markdown",
   "metadata": {
    "id": "aVZ-ehUrys9k"
   },
   "source": [
    "# **Q1. Downloading the data**\n",
    "Download the data for January and February 2023.\n",
    "\n",
    "Read the data for January. How many columns are there?\n",
    "\n",
    "\n",
    "\n",
    "*   15\n",
    "\n",
    "*   17\n",
    "*   18\n",
    "\n",
    "\n",
    "*   19\n",
    "\n",
    "### **Answer - 19**\n",
    "\n",
    "\n",
    "\n",
    "\n"
   ]
  },
  {
   "cell_type": "code",
   "execution_count": 17,
   "metadata": {
    "colab": {
     "base_uri": "https://localhost:8080/"
    },
    "id": "zGblTH-3yxO0",
    "outputId": "e585f474-dfac-4d32-95e6-1b499b0e932e"
   },
   "outputs": [
    {
     "data": {
      "text/plain": [
       "19"
      ]
     },
     "execution_count": 17,
     "metadata": {},
     "output_type": "execute_result"
    }
   ],
   "source": [
    "#Reading jan  yellow taxi data\n",
    "\n",
    "df = pd.read_parquet('../data/yellow_tripdata_2023-01.parquet')\n",
    "\n",
    "#Number of columns\n",
    "\n",
    "len(df.columns)"
   ]
  },
  {
   "cell_type": "markdown",
   "metadata": {
    "id": "0FyPFFAc1zXQ"
   },
   "source": [
    "# **Q2. Computing duration**\n",
    "What's the standard deviation of the trips duration in January?\n",
    "\n",
    "\n",
    "*   32.59\n",
    "\n",
    "*   42.59\n",
    "*   52.59\n",
    "\n",
    "\n",
    "*   62.59\n",
    "\n",
    "### **Answer - 42.59**\n",
    "\n",
    "\n",
    "\n",
    "\n"
   ]
  },
  {
   "cell_type": "code",
   "execution_count": 18,
   "metadata": {
    "colab": {
     "base_uri": "https://localhost:8080/"
    },
    "id": "N4IR9LaS2C7y",
    "outputId": "374dc90f-2fea-4988-bcba-f0ab08127a3a"
   },
   "outputs": [
    {
     "data": {
      "text/plain": [
       "42.594351241920904"
      ]
     },
     "execution_count": 18,
     "metadata": {},
     "output_type": "execute_result"
    }
   ],
   "source": [
    "# Creating new column duration for seeing total time\n",
    "df['duration'] = df.tpep_dropoff_datetime - df.tpep_pickup_datetime\n",
    "\n",
    "#Converting new column into minutes for simplicity\n",
    "df.duration = df.duration.apply(lambda td: td.total_seconds() / 60)\n",
    "\n",
    "# Calculating Standard deviation\n",
    "df.duration.std()\n"
   ]
  },
  {
   "cell_type": "markdown",
   "metadata": {
    "id": "gCqE5iHz4lCO"
   },
   "source": [
    "# **Q3. Dropping outliers**\n",
    "\n",
    "Next, we need to check the distribution of the duration variable. There are some outliers. Let's remove them and keep only the records where the duration was between 1 and 60 minutes (inclusive).\n",
    "\n",
    "What fraction of the records left after you dropped the outliers?\n",
    "\n",
    "*   90%\n",
    "\n",
    "*   92%\n",
    "\n",
    "*   95%\n",
    "\n",
    "\n",
    "*   98%\n",
    "\n",
    "### **Answer - 98%**\n",
    "\n",
    "\n",
    "\n",
    "\n"
   ]
  },
  {
   "cell_type": "code",
   "execution_count": 11,
   "metadata": {
    "colab": {
     "base_uri": "https://localhost:8080/"
    },
    "id": "WEwDJ1NB4mG0",
    "outputId": "4369617c-8b65-42c4-c513-93bc830f0ab8"
   },
   "outputs": [
    {
     "data": {
      "text/plain": [
       "98.1220282212598"
      ]
     },
     "execution_count": 11,
     "metadata": {},
     "output_type": "execute_result"
    }
   ],
   "source": [
    "# Dividing record between 1 and 60 inclusive with total original records and multiplying it with 100 for percentage of records left\n",
    "\n",
    "len(df[(df.duration >= 1) & (df.duration <= 60)])/len(df) * 100\n"
   ]
  },
  {
   "cell_type": "code",
   "execution_count": 12,
   "metadata": {
    "id": "cSI4IjBt-AH4"
   },
   "outputs": [],
   "source": [
    "# Storing new data without outliers in dataframe\n",
    "\n",
    "df = df[(df.duration >= 1) & (df.duration <= 60)]\n"
   ]
  },
  {
   "cell_type": "markdown",
   "metadata": {
    "id": "Rulru7fY-Y7y"
   },
   "source": [
    "# **Q4. One-hot encoding**\n",
    "\n",
    "Let's apply one-hot encoding to the pickup and dropoff location IDs. We'll use only these two features for our model.\n",
    "\n",
    "Turn the dataframe into a list of dictionaries (remember to re-cast the ids to strings - otherwise it will label encode them)\n",
    "\n",
    "Fit a dictionary vectorizer\n",
    "\n",
    "Get a feature matrix from it\n",
    "\n",
    "What's the dimensionality of this matrix (number of columns)?\n",
    "\n",
    "*   2\n",
    "\n",
    "*   155\n",
    "\n",
    "*   345\n",
    "\n",
    "\n",
    "*   515\n",
    "\n",
    "\n",
    "*   715\n",
    "\n",
    "\n",
    "\n",
    "### **Answer - 515**\n",
    "\n"
   ]
  },
  {
   "cell_type": "code",
   "execution_count": 13,
   "metadata": {
    "colab": {
     "base_uri": "https://localhost:8080/"
    },
    "id": "08QT0GZD-Zep",
    "outputId": "58fcfafc-d270-4803-c694-4c57178e0898"
   },
   "outputs": [
    {
     "data": {
      "text/plain": [
       "(3009173, 515)"
      ]
     },
     "execution_count": 13,
     "metadata": {},
     "output_type": "execute_result"
    }
   ],
   "source": [
    "# Creating Categories\n",
    "categorical = ['PULocationID', 'DOLocationID']\n",
    "\n",
    "# Converting categories data type to string\n",
    "df[categorical] = df[categorical].astype(str)\n",
    "\n",
    "# Turning the dataframe into a list of dictionaries\n",
    "train_dicts = df[categorical].to_dict(orient='records')\n",
    "\n",
    "#Initializing dictionary vectorizer\n",
    "dv = DictVectorizer()\n",
    "\n",
    "# Fitting a dictionary vectorizer\n",
    "X_train = dv.fit_transform(train_dicts)\n",
    "\n",
    "# Extracting feature matrix\n",
    "X_train.shape"
   ]
  },
  {
   "cell_type": "markdown",
   "metadata": {
    "id": "yGYHzMoCAoEE"
   },
   "source": [
    "# **Q5. Training a model**\n",
    "\n",
    "Now let's use the feature matrix from the previous step to train a model.\n",
    "\n",
    "\n",
    "*   Train a plain linear regression model with default parameters, where duration is the response variable\n",
    "\n",
    "*  Calculate the RMSE of the model on the training data\n",
    "\n",
    "\n",
    "\n",
    "What's the RMSE on train?\n",
    "\n",
    "*   3.64\n",
    "\n",
    "*   7.64\n",
    "\n",
    "*   11.64\n",
    "\n",
    "\n",
    "*   16.64\n",
    "\n",
    "\n",
    "### **Answer - 7.64**\n",
    "\n"
   ]
  },
  {
   "cell_type": "code",
   "execution_count": 14,
   "metadata": {
    "colab": {
     "base_uri": "https://localhost:8080/"
    },
    "id": "eNtge-xeBnKe",
    "outputId": "df51c613-aa40-47fd-a6f9-e133a6fa3a38"
   },
   "outputs": [
    {
     "data": {
      "text/plain": [
       "7.649261927665777"
      ]
     },
     "execution_count": 14,
     "metadata": {},
     "output_type": "execute_result"
    }
   ],
   "source": [
    "# Setting the target\n",
    "target = 'duration'\n",
    "y_train = df[target].values\n",
    "\n",
    "# Training a plain linear regression model\n",
    "lr = LinearRegression()\n",
    "lr.fit(X_train, y_train)\n",
    "\n",
    "# Predicting on taining data\n",
    "y_pred = lr.predict(X_train)\n",
    "\n",
    "# Calculating the RMSE of the model on the training data\n",
    "mean_squared_error(y_train, y_pred, squared=False)"
   ]
  },
  {
   "cell_type": "markdown",
   "metadata": {
    "id": "mfSTyTuNCtu1"
   },
   "source": [
    "# **Q6. Evaluating the model**\n",
    "\n",
    "\n",
    "Now let's apply this model to the validation dataset (February 2023).\n",
    "\n",
    "What's the RMSE on validation?\n",
    "*   3.81\n",
    "\n",
    "*   7.81\n",
    "\n",
    "*   11.81\n",
    "\n",
    "\n",
    "*   16.81\n",
    "\n",
    "\n",
    "### **Answer - 7.81**\n",
    "\n"
   ]
  },
  {
   "cell_type": "code",
   "execution_count": 16,
   "metadata": {
    "colab": {
     "base_uri": "https://localhost:8080/"
    },
    "id": "7yWK8NwqC5op",
    "outputId": "75dbdab5-0674-4276-866a-38aaec119b68"
   },
   "outputs": [
    {
     "data": {
      "text/plain": [
       "7.811817548344513"
      ]
     },
     "execution_count": 16,
     "metadata": {},
     "output_type": "execute_result"
    }
   ],
   "source": [
    "df = pd.read_parquet('../data/yellow_tripdata_2023-02.parquet')\n",
    "\n",
    "# Creating new column duration for seeing total time\n",
    "df['duration'] = df.tpep_dropoff_datetime - df.tpep_pickup_datetime\n",
    "\n",
    "#Converting new column into minutes for simplicuty\n",
    "df.duration = df.duration.apply(lambda td: td.total_seconds() / 60)\n",
    "df = df[(df.duration >= 1) & (df.duration <= 60)]\n",
    "\n",
    "# Creating Categories\n",
    "categorical = ['PULocationID', 'DOLocationID']\n",
    "\n",
    "# Converting categories data type to string\n",
    "df[categorical] = df[categorical].astype(str)\n",
    "\n",
    "# Turning the dataframe into a list of dictionaries\n",
    "val_dicts = df[categorical].to_dict(orient='records')\n",
    "\n",
    "\n",
    "# Transforming a dictionary vectorizer\n",
    "X_val = dv.transform(val_dicts)\n",
    "\n",
    "target = 'duration'\n",
    "y_val = df[target].values\n",
    "\n",
    "# Predicting on validation data\n",
    "\n",
    "y_pred = lr.predict(X_val)\n",
    "\n",
    "mean_squared_error(y_val, y_pred, squared=False)\n",
    "\n",
    "\n"
   ]
  }
 ],
 "metadata": {
  "colab": {
   "provenance": []
  },
  "kernelspec": {
   "display_name": "Python 3 (ipykernel)",
   "language": "python",
   "name": "python3"
  },
  "language_info": {
   "codemirror_mode": {
    "name": "ipython",
    "version": 3
   },
   "file_extension": ".py",
   "mimetype": "text/x-python",
   "name": "python",
   "nbconvert_exporter": "python",
   "pygments_lexer": "ipython3",
   "version": "3.11.7"
  }
 },
 "nbformat": 4,
 "nbformat_minor": 4
}
