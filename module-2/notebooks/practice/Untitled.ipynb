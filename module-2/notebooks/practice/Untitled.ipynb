{
 "cells": [
  {
   "cell_type": "code",
   "execution_count": 16,
   "id": "e888e5a8-bb4c-4060-be3b-77b3e0293c81",
   "metadata": {},
   "outputs": [
    {
     "name": "stdout",
     "output_type": "stream",
     "text": [
      "Requirement already satisfied: mlflow in /home/ubuntu/anaconda3/lib/python3.11/site-packages (2.14.1)\n",
      "Requirement already satisfied: Flask<4 in /home/ubuntu/anaconda3/lib/python3.11/site-packages (from mlflow) (2.2.5)\n",
      "Requirement already satisfied: alembic!=1.10.0,<2 in /home/ubuntu/anaconda3/lib/python3.11/site-packages (from mlflow) (1.13.1)\n",
      "Requirement already satisfied: cachetools<6,>=5.0.0 in /home/ubuntu/anaconda3/lib/python3.11/site-packages (from mlflow) (5.3.3)\n",
      "Requirement already satisfied: click<9,>=7.0 in /home/ubuntu/anaconda3/lib/python3.11/site-packages (from mlflow) (8.1.7)\n",
      "Requirement already satisfied: cloudpickle<4 in /home/ubuntu/anaconda3/lib/python3.11/site-packages (from mlflow) (2.2.1)\n",
      "Requirement already satisfied: docker<8,>=4.0.0 in /home/ubuntu/anaconda3/lib/python3.11/site-packages (from mlflow) (7.1.0)\n",
      "Requirement already satisfied: entrypoints<1 in /home/ubuntu/anaconda3/lib/python3.11/site-packages (from mlflow) (0.4)\n",
      "Requirement already satisfied: gitpython<4,>=3.1.9 in /home/ubuntu/anaconda3/lib/python3.11/site-packages (from mlflow) (3.1.37)\n",
      "Requirement already satisfied: graphene<4 in /home/ubuntu/anaconda3/lib/python3.11/site-packages (from mlflow) (3.3)\n",
      "Requirement already satisfied: importlib-metadata!=4.7.0,<8,>=3.7.0 in /home/ubuntu/anaconda3/lib/python3.11/site-packages (from mlflow) (7.0.1)\n",
      "Requirement already satisfied: markdown<4,>=3.3 in /home/ubuntu/anaconda3/lib/python3.11/site-packages (from mlflow) (3.4.1)\n",
      "Requirement already satisfied: matplotlib<4 in /home/ubuntu/anaconda3/lib/python3.11/site-packages (from mlflow) (3.8.0)\n",
      "Requirement already satisfied: numpy<2 in /home/ubuntu/anaconda3/lib/python3.11/site-packages (from mlflow) (1.26.4)\n",
      "Requirement already satisfied: opentelemetry-api<3,>=1.9.0 in /home/ubuntu/anaconda3/lib/python3.11/site-packages (from mlflow) (1.25.0)\n",
      "Requirement already satisfied: opentelemetry-sdk<3,>=1.9.0 in /home/ubuntu/anaconda3/lib/python3.11/site-packages (from mlflow) (1.25.0)\n",
      "Requirement already satisfied: packaging<25 in /home/ubuntu/anaconda3/lib/python3.11/site-packages (from mlflow) (23.1)\n",
      "Requirement already satisfied: pandas<3 in /home/ubuntu/anaconda3/lib/python3.11/site-packages (from mlflow) (2.1.4)\n",
      "Requirement already satisfied: protobuf<5,>=3.12.0 in /home/ubuntu/anaconda3/lib/python3.11/site-packages (from mlflow) (3.20.3)\n",
      "Requirement already satisfied: pyarrow<16,>=4.0.0 in /home/ubuntu/anaconda3/lib/python3.11/site-packages (from mlflow) (14.0.2)\n",
      "Requirement already satisfied: pytz<2025 in /home/ubuntu/anaconda3/lib/python3.11/site-packages (from mlflow) (2023.3.post1)\n",
      "Requirement already satisfied: pyyaml<7,>=5.1 in /home/ubuntu/anaconda3/lib/python3.11/site-packages (from mlflow) (6.0.1)\n",
      "Requirement already satisfied: querystring-parser<2 in /home/ubuntu/anaconda3/lib/python3.11/site-packages (from mlflow) (1.2.4)\n",
      "Requirement already satisfied: requests<3,>=2.17.3 in /home/ubuntu/anaconda3/lib/python3.11/site-packages (from mlflow) (2.31.0)\n",
      "Requirement already satisfied: scikit-learn<2 in /home/ubuntu/anaconda3/lib/python3.11/site-packages (from mlflow) (1.2.2)\n",
      "Requirement already satisfied: scipy<2 in /home/ubuntu/anaconda3/lib/python3.11/site-packages (from mlflow) (1.11.4)\n",
      "Requirement already satisfied: sqlalchemy<3,>=1.4.0 in /home/ubuntu/anaconda3/lib/python3.11/site-packages (from mlflow) (2.0.25)\n",
      "Requirement already satisfied: sqlparse<1,>=0.4.0 in /home/ubuntu/anaconda3/lib/python3.11/site-packages (from mlflow) (0.5.0)\n",
      "Requirement already satisfied: Jinja2<4,>=2.11 in /home/ubuntu/anaconda3/lib/python3.11/site-packages (from mlflow) (3.1.3)\n",
      "Requirement already satisfied: gunicorn<23 in /home/ubuntu/anaconda3/lib/python3.11/site-packages (from mlflow) (22.0.0)\n",
      "Requirement already satisfied: Mako in /home/ubuntu/anaconda3/lib/python3.11/site-packages (from alembic!=1.10.0,<2->mlflow) (1.3.5)\n",
      "Requirement already satisfied: typing-extensions>=4 in /home/ubuntu/anaconda3/lib/python3.11/site-packages (from alembic!=1.10.0,<2->mlflow) (4.9.0)\n",
      "Requirement already satisfied: urllib3>=1.26.0 in /home/ubuntu/anaconda3/lib/python3.11/site-packages (from docker<8,>=4.0.0->mlflow) (2.0.7)\n",
      "Requirement already satisfied: Werkzeug>=2.2.2 in /home/ubuntu/anaconda3/lib/python3.11/site-packages (from Flask<4->mlflow) (2.2.3)\n",
      "Requirement already satisfied: itsdangerous>=2.0 in /home/ubuntu/anaconda3/lib/python3.11/site-packages (from Flask<4->mlflow) (2.0.1)\n",
      "Requirement already satisfied: gitdb<5,>=4.0.1 in /home/ubuntu/anaconda3/lib/python3.11/site-packages (from gitpython<4,>=3.1.9->mlflow) (4.0.7)\n",
      "Requirement already satisfied: graphql-core<3.3,>=3.1 in /home/ubuntu/anaconda3/lib/python3.11/site-packages (from graphene<4->mlflow) (3.2.3)\n",
      "Requirement already satisfied: graphql-relay<3.3,>=3.1 in /home/ubuntu/anaconda3/lib/python3.11/site-packages (from graphene<4->mlflow) (3.2.0)\n",
      "Requirement already satisfied: aniso8601<10,>=8 in /home/ubuntu/anaconda3/lib/python3.11/site-packages (from graphene<4->mlflow) (9.0.1)\n",
      "Requirement already satisfied: zipp>=0.5 in /home/ubuntu/anaconda3/lib/python3.11/site-packages (from importlib-metadata!=4.7.0,<8,>=3.7.0->mlflow) (3.17.0)\n",
      "Requirement already satisfied: MarkupSafe>=2.0 in /home/ubuntu/anaconda3/lib/python3.11/site-packages (from Jinja2<4,>=2.11->mlflow) (2.1.3)\n",
      "Requirement already satisfied: contourpy>=1.0.1 in /home/ubuntu/anaconda3/lib/python3.11/site-packages (from matplotlib<4->mlflow) (1.2.0)\n",
      "Requirement already satisfied: cycler>=0.10 in /home/ubuntu/anaconda3/lib/python3.11/site-packages (from matplotlib<4->mlflow) (0.11.0)\n",
      "Requirement already satisfied: fonttools>=4.22.0 in /home/ubuntu/anaconda3/lib/python3.11/site-packages (from matplotlib<4->mlflow) (4.25.0)\n",
      "Requirement already satisfied: kiwisolver>=1.0.1 in /home/ubuntu/anaconda3/lib/python3.11/site-packages (from matplotlib<4->mlflow) (1.4.4)\n",
      "Requirement already satisfied: pillow>=6.2.0 in /home/ubuntu/anaconda3/lib/python3.11/site-packages (from matplotlib<4->mlflow) (10.2.0)\n",
      "Requirement already satisfied: pyparsing>=2.3.1 in /home/ubuntu/anaconda3/lib/python3.11/site-packages (from matplotlib<4->mlflow) (3.0.9)\n",
      "Requirement already satisfied: python-dateutil>=2.7 in /home/ubuntu/anaconda3/lib/python3.11/site-packages (from matplotlib<4->mlflow) (2.8.2)\n",
      "Requirement already satisfied: deprecated>=1.2.6 in /home/ubuntu/anaconda3/lib/python3.11/site-packages (from opentelemetry-api<3,>=1.9.0->mlflow) (1.2.14)\n",
      "Requirement already satisfied: opentelemetry-semantic-conventions==0.46b0 in /home/ubuntu/anaconda3/lib/python3.11/site-packages (from opentelemetry-sdk<3,>=1.9.0->mlflow) (0.46b0)\n",
      "Requirement already satisfied: tzdata>=2022.1 in /home/ubuntu/anaconda3/lib/python3.11/site-packages (from pandas<3->mlflow) (2023.3)\n",
      "Requirement already satisfied: six in /home/ubuntu/anaconda3/lib/python3.11/site-packages (from querystring-parser<2->mlflow) (1.16.0)\n",
      "Requirement already satisfied: charset-normalizer<4,>=2 in /home/ubuntu/anaconda3/lib/python3.11/site-packages (from requests<3,>=2.17.3->mlflow) (2.0.4)\n",
      "Requirement already satisfied: idna<4,>=2.5 in /home/ubuntu/anaconda3/lib/python3.11/site-packages (from requests<3,>=2.17.3->mlflow) (3.4)\n",
      "Requirement already satisfied: certifi>=2017.4.17 in /home/ubuntu/anaconda3/lib/python3.11/site-packages (from requests<3,>=2.17.3->mlflow) (2024.2.2)\n",
      "Requirement already satisfied: joblib>=1.1.1 in /home/ubuntu/anaconda3/lib/python3.11/site-packages (from scikit-learn<2->mlflow) (1.2.0)\n",
      "Requirement already satisfied: threadpoolctl>=2.0.0 in /home/ubuntu/anaconda3/lib/python3.11/site-packages (from scikit-learn<2->mlflow) (2.2.0)\n",
      "Requirement already satisfied: greenlet!=0.4.17 in /home/ubuntu/anaconda3/lib/python3.11/site-packages (from sqlalchemy<3,>=1.4.0->mlflow) (3.0.1)\n",
      "Requirement already satisfied: wrapt<2,>=1.10 in /home/ubuntu/anaconda3/lib/python3.11/site-packages (from deprecated>=1.2.6->opentelemetry-api<3,>=1.9.0->mlflow) (1.14.1)\n",
      "Requirement already satisfied: smmap<5,>=3.0.1 in /home/ubuntu/anaconda3/lib/python3.11/site-packages (from gitdb<5,>=4.0.1->gitpython<4,>=3.1.9->mlflow) (4.0.0)\n"
     ]
    }
   ],
   "source": [
    "!pip3 install mlflow"
   ]
  },
  {
   "cell_type": "code",
   "execution_count": 17,
   "id": "0cdf76c0-5c1c-4ce2-a53d-acf1c9230316",
   "metadata": {},
   "outputs": [],
   "source": [
    "import pandas as pd\n",
    "import pickle\n",
    "import seaborn as sns\n",
    "import matplotlib.pyplot as plt\n",
    "from sklearn.feature_extraction import DictVectorizer\n",
    "from sklearn.linear_model import LinearRegression\n",
    "from sklearn.linear_model import Lasso\n",
    "from sklearn.linear_model import Ridge\n",
    "\n",
    "from sklearn.metrics import mean_squared_error"
   ]
  },
  {
   "cell_type": "code",
   "execution_count": 21,
   "id": "78986d98-b757-432e-8459-f78b62148177",
   "metadata": {},
   "outputs": [
    {
     "name": "stdout",
     "output_type": "stream",
     "text": [
      "mlflow, version 2.14.1\n"
     ]
    }
   ],
   "source": [
    "!mlflow --version"
   ]
  },
  {
   "cell_type": "code",
   "execution_count": null,
   "id": "eac8a219-7334-40c7-a29b-e0700d6999ec",
   "metadata": {},
   "outputs": [
    {
     "name": "stdout",
     "output_type": "stream",
     "text": [
      "[2024-06-20 14:47:55 +0000] [8568] [INFO] Starting gunicorn 22.0.0\n",
      "[2024-06-20 14:47:55 +0000] [8568] [INFO] Listening at: http://127.0.0.1:5000 (8568)\n",
      "[2024-06-20 14:47:55 +0000] [8568] [INFO] Using worker: sync\n",
      "[2024-06-20 14:47:55 +0000] [8569] [INFO] Booting worker with pid: 8569\n",
      "[2024-06-20 14:47:56 +0000] [8570] [INFO] Booting worker with pid: 8570\n",
      "[2024-06-20 14:47:56 +0000] [8571] [INFO] Booting worker with pid: 8571\n",
      "[2024-06-20 14:47:56 +0000] [8572] [INFO] Booting worker with pid: 8572\n"
     ]
    }
   ],
   "source": [
    "!mlflow ui --backend-store-uri sqlite:///mlflow.db"
   ]
  },
  {
   "cell_type": "code",
   "execution_count": null,
   "id": "4405df85-bb3e-489c-9f89-f0267ed20efd",
   "metadata": {},
   "outputs": [],
   "source": [
    "import mlflow\n",
    "\n",
    "mlflow.set_experiment(\"nyc-taxi-experiment\")"
   ]
  }
 ],
 "metadata": {
  "kernelspec": {
   "display_name": "Python 3 (ipykernel)",
   "language": "python",
   "name": "python3"
  },
  "language_info": {
   "codemirror_mode": {
    "name": "ipython",
    "version": 3
   },
   "file_extension": ".py",
   "mimetype": "text/x-python",
   "name": "python",
   "nbconvert_exporter": "python",
   "pygments_lexer": "ipython3",
   "version": "3.11.7"
  }
 },
 "nbformat": 4,
 "nbformat_minor": 5
}
