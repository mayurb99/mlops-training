{
 "cells": [
  {
   "cell_type": "markdown",
   "id": "50d20364-28ff-46d5-9cc4-80a735b96ca7",
   "metadata": {},
   "source": [
    "\n",
    "## Q1. Install MLflow\n",
    "\n",
    "[](https://github.com/DataTalksClub/mlops-zoomcamp/blob/main/cohorts/2024/02-experiment-tracking/homework.md#q1-install-mlflow)\n",
    "\n",
    "To get started with MLflow you'll need to install the MLflow Python package.\n",
    "\n",
    "For this we recommend creating a separate Python environment, for example, you can use  [conda environments](https://docs.conda.io/projects/conda/en/latest/user-guide/getting-started.html#managing-envs), and then install the package there with  `pip`  or  `conda`.\n",
    "\n",
    "Once you installed the package, run the command  `mlflow --version`  and check the output.\n",
    "\n",
    "What's the version that you have?\n",
    "\n",
    "## Answer\n",
    "\n",
    "  - ###  2.14.1"
   ]
  },
  {
   "cell_type": "code",
   "execution_count": 4,
   "id": "9320965d-3cc9-46ba-8a80-6b27478de290",
   "metadata": {},
   "outputs": [
    {
     "name": "stdout",
     "output_type": "stream",
     "text": [
      "mlflow, version 2.14.1\n"
     ]
    }
   ],
   "source": [
    "!mlflow --version"
   ]
  },
  {
   "cell_type": "markdown",
   "id": "3bfad897-94c6-424c-a4eb-0411eece4432",
   "metadata": {},
   "source": [
    "\n",
    "## Q2. Download and preprocess the data\n",
    "\n",
    "[](https://github.com/DataTalksClub/mlops-zoomcamp/blob/main/cohorts/2024/02-experiment-tracking/homework.md#q2-download-and-preprocess-the-data)\n",
    "\n",
    "We'll use the Green Taxi Trip Records dataset to predict the duration of each trip.\n",
    "\n",
    "Download the data for January, February and March 2023 in parquet format from  [here](https://www1.nyc.gov/site/tlc/about/tlc-trip-record-data.page).\n",
    "\n",
    "Use the script  `preprocess_data.py`  located in the folder  [`homework`](https://github.com/DataTalksClub/mlops-zoomcamp/blob/main/cohorts/2024/02-experiment-tracking/homework)  to preprocess the data.\n",
    "\n",
    "The script will:\n",
    "\n",
    "-   load the data from the folder  `<TAXI_DATA_FOLDER>`  (the folder where you have downloaded the data),\n",
    "-   fit a  `DictVectorizer`  on the training set (January 2023 data),\n",
    "-   save the preprocessed datasets and the  `DictVectorizer`  to disk.\n",
    "\n",
    "Your task is to download the datasets and then execute this command:\n",
    "\n",
    "```\n",
    "python preprocess_data.py --raw_data_path <TAXI_DATA_FOLDER> --dest_path ./output\n",
    "\n",
    "```\n",
    "\n",
    "Tip: go to  `02-experiment-tracking/homework/`  folder before executing the command and change the value of  `<TAXI_DATA_FOLDER>`  to the location where you saved the data.\n",
    "\n",
    "How many files were saved to  `OUTPUT_FOLDER`?\n",
    "\n",
    "-   1\n",
    "-   3\n",
    "-   4\n",
    "-   7\n",
    "\n",
    "## Answer\n",
    "\n",
    "  - ###  4"
   ]
  },
  {
   "cell_type": "code",
   "execution_count": 5,
   "id": "ecd85907-a0f0-4a84-9ae3-4aed59c3a2e1",
   "metadata": {},
   "outputs": [
    {
     "name": "stdout",
     "output_type": "stream",
     "text": [
      "--2024-06-22 18:23:37--  https://d37ci6vzurychx.cloudfront.net/trip-data/green_tripdata_2023-01.parquet\n",
      "Resolving d37ci6vzurychx.cloudfront.net (d37ci6vzurychx.cloudfront.net)... 13.32.192.190, 13.32.192.2, 13.32.192.116, ...\n",
      "Connecting to d37ci6vzurychx.cloudfront.net (d37ci6vzurychx.cloudfront.net)|13.32.192.190|:443... connected.\n",
      "HTTP request sent, awaiting response... 200 OK\n",
      "Length: 1427002 (1.4M) [binary/octet-stream]\n",
      "Saving to: ‘../data/green_tripdata_2023-01.parquet’\n",
      "\n",
      "../data/green_tripd 100%[===================>]   1.36M  --.-KB/s    in 0.03s   \n",
      "\n",
      "2024-06-22 18:23:38 (41.7 MB/s) - ‘../data/green_tripdata_2023-01.parquet’ saved [1427002/1427002]\n",
      "\n",
      "--2024-06-22 18:23:38--  https://d37ci6vzurychx.cloudfront.net/trip-data/green_tripdata_2023-02.parquet\n",
      "Resolving d37ci6vzurychx.cloudfront.net (d37ci6vzurychx.cloudfront.net)... 13.32.192.2, 13.32.192.116, 13.32.192.124, ...\n",
      "Connecting to d37ci6vzurychx.cloudfront.net (d37ci6vzurychx.cloudfront.net)|13.32.192.2|:443... connected.\n",
      "HTTP request sent, awaiting response... 200 OK\n",
      "Length: 1533740 (1.5M) [binary/octet-stream]\n",
      "Saving to: ‘../data/green_tripdata_2023-02.parquet’\n",
      "\n",
      "../data/green_tripd 100%[===================>]   1.46M  --.-KB/s    in 0.02s   \n",
      "\n",
      "2024-06-22 18:23:38 (78.1 MB/s) - ‘../data/green_tripdata_2023-02.parquet’ saved [1533740/1533740]\n",
      "\n",
      "--2024-06-22 18:23:39--  https://d37ci6vzurychx.cloudfront.net/trip-data/green_tripdata_2023-03.parquet\n",
      "Resolving d37ci6vzurychx.cloudfront.net (d37ci6vzurychx.cloudfront.net)... 13.32.192.2, 13.32.192.116, 13.32.192.124, ...\n",
      "Connecting to d37ci6vzurychx.cloudfront.net (d37ci6vzurychx.cloudfront.net)|13.32.192.2|:443... connected.\n",
      "HTTP request sent, awaiting response... 200 OK\n",
      "Length: 1730999 (1.7M) [binary/octet-stream]\n",
      "Saving to: ‘../data/green_tripdata_2023-03.parquet’\n",
      "\n",
      "../data/green_tripd 100%[===================>]   1.65M  --.-KB/s    in 0.02s   \n",
      "\n",
      "2024-06-22 18:23:39 (86.4 MB/s) - ‘../data/green_tripdata_2023-03.parquet’ saved [1730999/1730999]\n",
      "\n"
     ]
    }
   ],
   "source": [
    "!wget https://d37ci6vzurychx.cloudfront.net/trip-data/green_tripdata_2023-01.parquet  -O ../data/green_tripdata_2023-01.parquet\n",
    "!wget https://d37ci6vzurychx.cloudfront.net/trip-data/green_tripdata_2023-02.parquet -O ../data/green_tripdata_2023-02.parquet\n",
    "!wget https://d37ci6vzurychx.cloudfront.net/trip-data/green_tripdata_2023-03.parquet -O ../data/green_tripdata_2023-03.parquet"
   ]
  },
  {
   "cell_type": "code",
   "execution_count": 11,
   "id": "2511d938-25fc-4dfc-af06-13385d7fde28",
   "metadata": {},
   "outputs": [],
   "source": [
    "!python preprocess_data.py --raw_data_path ../data --dest_path ./output"
   ]
  },
  {
   "cell_type": "code",
   "execution_count": 13,
   "id": "5d000aae-9919-4b0b-a4d4-f62d6e1fe5e0",
   "metadata": {},
   "outputs": [
    {
     "name": "stdout",
     "output_type": "stream",
     "text": [
      "val.pkl\n",
      "dv.pkl\n",
      "train.pkl\n",
      "test.pkl\n"
     ]
    }
   ],
   "source": [
    "import os\n",
    "for path in os.scandir('./output'):\n",
    "    if path.is_file():\n",
    "        print(path.name)\n"
   ]
  },
  {
   "cell_type": "markdown",
   "id": "0cfcd76b-d56a-4b88-86f1-1ef95dbd98ec",
   "metadata": {},
   "source": [
    "\n",
    "## Q3. Train a model with autolog\n",
    "\n",
    "[](https://github.com/DataTalksClub/mlops-zoomcamp/blob/main/cohorts/2024/02-experiment-tracking/homework.md#q3-train-a-model-with-autolog)\n",
    "\n",
    "We will train a  `RandomForestRegressor`  (from Scikit-Learn) on the taxi dataset.\n",
    "\n",
    "We have prepared the training script  `train.py`  for this exercise, which can be also found in the folder  [`homework`](https://github.com/DataTalksClub/mlops-zoomcamp/blob/main/cohorts/2024/02-experiment-tracking/homework).\n",
    "\n",
    "The script will:\n",
    "\n",
    "-   load the datasets produced by the previous step,\n",
    "-   train the model on the training set,\n",
    "-   calculate the RMSE score on the validation set.\n",
    "\n",
    "Your task is to modify the script to enable  **autologging**  with MLflow, execute the script and then launch the MLflow UI to check that the experiment run was properly tracked.\n",
    "\n",
    "Tip 1: don't forget to wrap the training code with a  `with mlflow.start_run():`  statement as we showed in the videos.\n",
    "\n",
    "Tip 2: don't modify the hyperparameters of the model to make sure that the training will finish quickly.\n",
    "\n",
    "What is the value of the  `min_samples_split`  parameter:\n",
    "\n",
    "-   2\n",
    "-   4\n",
    "-   8\n",
    "-   10\n",
    "\n",
    "## Answer\n",
    "\n",
    "  - ###  2\n",
    "\n"
   ]
  },
  {
   "cell_type": "code",
   "execution_count": 14,
   "id": "6a6f5fec-4acb-419f-a5b7-ac8902312971",
   "metadata": {},
   "outputs": [
    {
     "name": "stdout",
     "output_type": "stream",
     "text": [
      "2024/06/22 18:55:05 INFO mlflow.store.db.utils: Creating initial MLflow database tables...\n",
      "2024/06/22 18:55:05 INFO mlflow.store.db.utils: Updating database tables\n",
      "INFO  [alembic.runtime.migration] Context impl SQLiteImpl.\n",
      "INFO  [alembic.runtime.migration] Will assume non-transactional DDL.\n",
      "INFO  [alembic.runtime.migration] Running upgrade  -> 451aebb31d03, add metric step\n",
      "INFO  [alembic.runtime.migration] Running upgrade 451aebb31d03 -> 90e64c465722, migrate user column to tags\n",
      "INFO  [alembic.runtime.migration] Running upgrade 90e64c465722 -> 181f10493468, allow nulls for metric values\n",
      "INFO  [alembic.runtime.migration] Running upgrade 181f10493468 -> df50e92ffc5e, Add Experiment Tags Table\n",
      "INFO  [alembic.runtime.migration] Running upgrade df50e92ffc5e -> 7ac759974ad8, Update run tags with larger limit\n",
      "INFO  [alembic.runtime.migration] Running upgrade 7ac759974ad8 -> 89d4b8295536, create latest metrics table\n",
      "INFO  [89d4b8295536_create_latest_metrics_table_py] Migration complete!\n",
      "INFO  [alembic.runtime.migration] Running upgrade 89d4b8295536 -> 2b4d017a5e9b, add model registry tables to db\n",
      "INFO  [2b4d017a5e9b_add_model_registry_tables_to_db_py] Adding registered_models and model_versions tables to database.\n",
      "INFO  [2b4d017a5e9b_add_model_registry_tables_to_db_py] Migration complete!\n",
      "INFO  [alembic.runtime.migration] Running upgrade 2b4d017a5e9b -> cfd24bdc0731, Update run status constraint with killed\n",
      "INFO  [alembic.runtime.migration] Running upgrade cfd24bdc0731 -> 0a8213491aaa, drop_duplicate_killed_constraint\n",
      "INFO  [alembic.runtime.migration] Running upgrade 0a8213491aaa -> 728d730b5ebd, add registered model tags table\n",
      "INFO  [alembic.runtime.migration] Running upgrade 728d730b5ebd -> 27a6a02d2cf1, add model version tags table\n",
      "INFO  [alembic.runtime.migration] Running upgrade 27a6a02d2cf1 -> 84291f40a231, add run_link to model_version\n",
      "INFO  [alembic.runtime.migration] Running upgrade 84291f40a231 -> a8c4a736bde6, allow nulls for run_id\n",
      "INFO  [alembic.runtime.migration] Running upgrade a8c4a736bde6 -> 39d1c3be5f05, add_is_nan_constraint_for_metrics_tables_if_necessary\n",
      "INFO  [alembic.runtime.migration] Running upgrade 39d1c3be5f05 -> c48cb773bb87, reset_default_value_for_is_nan_in_metrics_table_for_mysql\n",
      "INFO  [alembic.runtime.migration] Running upgrade c48cb773bb87 -> bd07f7e963c5, create index on run_uuid\n",
      "INFO  [alembic.runtime.migration] Running upgrade bd07f7e963c5 -> 0c779009ac13, add deleted_time field to runs table\n",
      "INFO  [alembic.runtime.migration] Running upgrade 0c779009ac13 -> cc1f77228345, change param value length to 500\n",
      "INFO  [alembic.runtime.migration] Running upgrade cc1f77228345 -> 97727af70f4d, Add creation_time and last_update_time to experiments table\n",
      "INFO  [alembic.runtime.migration] Running upgrade 97727af70f4d -> 3500859a5d39, Add Model Aliases table\n",
      "INFO  [alembic.runtime.migration] Running upgrade 3500859a5d39 -> 7f2a7d5fae7d, add datasets inputs input_tags tables\n",
      "INFO  [alembic.runtime.migration] Running upgrade 7f2a7d5fae7d -> 2d6e25af4d3e, increase max param val length from 500 to 8000\n",
      "INFO  [alembic.runtime.migration] Running upgrade 2d6e25af4d3e -> acf3f17fdcc7, add storage location field to model versions\n",
      "INFO  [alembic.runtime.migration] Running upgrade acf3f17fdcc7 -> 867495a8f9d4, add trace tables\n",
      "INFO  [alembic.runtime.migration] Running upgrade 867495a8f9d4 -> 5b0e9adcef9c, add cascade deletion to trace tables foreign keys\n",
      "INFO  [alembic.runtime.migration] Context impl SQLiteImpl.\n",
      "INFO  [alembic.runtime.migration] Will assume non-transactional DDL.\n",
      "2024/06/22 18:55:06 INFO mlflow.tracking.fluent: Experiment with name 'homework_module2' does not exist. Creating a new experiment.\n",
      "2024/06/22 18:55:06 WARNING mlflow.utils.autologging_utils: You are using an unsupported version of sklearn. If you encounter errors during autologging, try upgrading / downgrading sklearn to a supported version, or try upgrading MLflow.\n",
      "2024/06/22 18:55:08 WARNING mlflow.sklearn: Failed to log training dataset information to MLflow Tracking. Reason: 'numpy.ndarray' object has no attribute 'toarray'\n",
      "2024/06/22 18:55:30 WARNING mlflow.utils.autologging_utils: MLflow autologging encountered a warning: \"/home/ubuntu/anaconda3/envs/mlops-zoomcamp-module2/lib/python3.11/site-packages/_distutils_hack/__init__.py:26: UserWarning: Setuptools is replacing distutils.\"\n",
      "/home/ubuntu/anaconda3/envs/mlops-zoomcamp-module2/lib/python3.11/site-packages/sklearn/metrics/_regression.py:492: FutureWarning: 'squared' is deprecated in version 1.4 and will be removed in 1.6. To calculate the root mean squared error, use the function'root_mean_squared_error'.\n",
      "  warnings.warn(\n"
     ]
    }
   ],
   "source": [
    "!python train.py"
   ]
  },
  {
   "cell_type": "markdown",
   "id": "025d4b6a-cb2b-4195-bbae-add13381c3da",
   "metadata": {},
   "source": [
    "\n",
    "## Q4. Launch the tracking server locally\n",
    "\n",
    "[](https://github.com/DataTalksClub/mlops-zoomcamp/blob/main/cohorts/2024/02-experiment-tracking/homework.md#q4-launch-the-tracking-server-locally)\n",
    "\n",
    "Now we want to manage the entire lifecycle of our ML model. In this step, you'll need to launch a tracking server. This way we will also have access to the model registry.\n",
    "\n",
    "Your task is to:\n",
    "\n",
    "-   launch the tracking server on your local machine,\n",
    "-   select a SQLite db for the backend store and a folder called  `artifacts`  for the artifacts store.\n",
    "\n",
    "You should keep the tracking server running to work on the next two exercises that use the server.\n",
    "\n",
    "In addition to  `backend-store-uri`, what else do you need to pass to properly configure the server?\n",
    "\n",
    "-   `default-artifact-root`\n",
    "-   `serve-artifacts`\n",
    "-   `artifacts-only`\n",
    "-   `artifacts-destination`\n",
    "\n",
    "## Answer\n",
    "\n",
    "  - ###  default-artifact-root"
   ]
  },
  {
   "cell_type": "markdown",
   "id": "dd1aab81-1858-45a7-ad37-4359959cff0e",
   "metadata": {},
   "source": [
    "## Q5. Tune model hyperparameters\n",
    "\n",
    "[](https://github.com/DataTalksClub/mlops-zoomcamp/blob/main/cohorts/2024/02-experiment-tracking/homework.md#q5-tune-model-hyperparameters)\n",
    "\n",
    "Now let's try to reduce the validation error by tuning the hyperparameters of the  `RandomForestRegressor`  using  `hyperopt`. We have prepared the script  `hpo.py`  for this exercise.\n",
    "\n",
    "Your task is to modify the script  `hpo.py`  and make sure that the validation RMSE is logged to the tracking server for each run of the hyperparameter optimization (you will need to add a few lines of code to the  `objective`  function) and run the script without passing any parameters.\n",
    "\n",
    "After that, open UI and explore the runs from the experiment called  `random-forest-hyperopt`  to answer the question below.\n",
    "\n",
    "Note: Don't use autologging for this exercise.\n",
    "\n",
    "The idea is to just log the information that you need to answer the question below, including:\n",
    "\n",
    "-   the list of hyperparameters that are passed to the  `objective`  function during the optimization,\n",
    "-   the RMSE obtained on the validation set (February 2023 data).\n",
    "\n",
    "What's the best validation RMSE that you got?\n",
    "\n",
    "-   4.817\n",
    "-   5.335\n",
    "-   5.818\n",
    "-   6.336\n",
    "\n",
    "## Answer\n",
    "\n",
    "  - ###  5.335"
   ]
  },
  {
   "cell_type": "code",
   "execution_count": 1,
   "id": "c1f893a9-c824-47bc-9ce3-21a333b67427",
   "metadata": {},
   "outputs": [
    {
     "name": "stdout",
     "output_type": "stream",
     "text": [
      "2024/06/23 13:55:33 INFO mlflow.tracking.fluent: Experiment with name 'random-forest-hyperopt' does not exist. Creating a new experiment.\n",
      "  0%|                                    | 0/15 [00:00<?, ?trial/s, best loss=?]/home/ubuntu/anaconda3/envs/mlops-zoomcamp-module2/lib/python3.11/site-packages/sklearn/metrics/_regression.py:492: FutureWarning: 'squared' is deprecated in version 1.4 and will be removed in 1.6. To calculate the root mean squared error, use the function'root_mean_squared_error'.\n",
      "  warnings.warn(\n",
      "\n",
      "  7%|▋          | 1/15 [00:12<02:50, 12.16s/trial, best loss: 5.370086069268862]/home/ubuntu/anaconda3/envs/mlops-zoomcamp-module2/lib/python3.11/site-packages/sklearn/metrics/_regression.py:492: FutureWarning: 'squared' is deprecated in version 1.4 and will be removed in 1.6. To calculate the root mean squared error, use the function'root_mean_squared_error'.\n",
      "  warnings.warn(\n",
      "\n",
      " 13%|█▍         | 2/15 [00:12<01:09,  5.31s/trial, best loss: 5.370086069268862]/home/ubuntu/anaconda3/envs/mlops-zoomcamp-module2/lib/python3.11/site-packages/sklearn/metrics/_regression.py:492: FutureWarning: 'squared' is deprecated in version 1.4 and will be removed in 1.6. To calculate the root mean squared error, use the function'root_mean_squared_error'.\n",
      "  warnings.warn(\n",
      "\n",
      " 20%|██▏        | 3/15 [00:13<00:38,  3.24s/trial, best loss: 5.370086069268862]/home/ubuntu/anaconda3/envs/mlops-zoomcamp-module2/lib/python3.11/site-packages/sklearn/metrics/_regression.py:492: FutureWarning: 'squared' is deprecated in version 1.4 and will be removed in 1.6. To calculate the root mean squared error, use the function'root_mean_squared_error'.\n",
      "  warnings.warn(\n",
      "\n",
      " 27%|██▉        | 4/15 [00:21<00:57,  5.21s/trial, best loss: 5.357490752366866]/home/ubuntu/anaconda3/envs/mlops-zoomcamp-module2/lib/python3.11/site-packages/sklearn/metrics/_regression.py:492: FutureWarning: 'squared' is deprecated in version 1.4 and will be removed in 1.6. To calculate the root mean squared error, use the function'root_mean_squared_error'.\n",
      "  warnings.warn(\n",
      "\n",
      " 33%|███▋       | 5/15 [00:25<00:46,  4.68s/trial, best loss: 5.357490752366866]/home/ubuntu/anaconda3/envs/mlops-zoomcamp-module2/lib/python3.11/site-packages/sklearn/metrics/_regression.py:492: FutureWarning: 'squared' is deprecated in version 1.4 and will be removed in 1.6. To calculate the root mean squared error, use the function'root_mean_squared_error'.\n",
      "  warnings.warn(\n",
      "\n",
      " 40%|████▍      | 6/15 [00:39<01:11,  7.96s/trial, best loss: 5.354695072530291]/home/ubuntu/anaconda3/envs/mlops-zoomcamp-module2/lib/python3.11/site-packages/sklearn/metrics/_regression.py:492: FutureWarning: 'squared' is deprecated in version 1.4 and will be removed in 1.6. To calculate the root mean squared error, use the function'root_mean_squared_error'.\n",
      "  warnings.warn(\n",
      "\n",
      " 47%|█████▏     | 7/15 [00:53<01:18,  9.77s/trial, best loss: 5.354695072530291]/home/ubuntu/anaconda3/envs/mlops-zoomcamp-module2/lib/python3.11/site-packages/sklearn/metrics/_regression.py:492: FutureWarning: 'squared' is deprecated in version 1.4 and will be removed in 1.6. To calculate the root mean squared error, use the function'root_mean_squared_error'.\n",
      "  warnings.warn(\n",
      "\n",
      " 53%|█████▊     | 8/15 [00:54<00:49,  7.08s/trial, best loss: 5.354695072530291]/home/ubuntu/anaconda3/envs/mlops-zoomcamp-module2/lib/python3.11/site-packages/sklearn/metrics/_regression.py:492: FutureWarning: 'squared' is deprecated in version 1.4 and will be removed in 1.6. To calculate the root mean squared error, use the function'root_mean_squared_error'.\n",
      "  warnings.warn(\n",
      "\n",
      " 60%|██████▌    | 9/15 [01:02<00:44,  7.43s/trial, best loss: 5.354695072530291]/home/ubuntu/anaconda3/envs/mlops-zoomcamp-module2/lib/python3.11/site-packages/sklearn/metrics/_regression.py:492: FutureWarning: 'squared' is deprecated in version 1.4 and will be removed in 1.6. To calculate the root mean squared error, use the function'root_mean_squared_error'.\n",
      "  warnings.warn(\n",
      "\n",
      " 67%|██████▋   | 10/15 [01:09<00:36,  7.28s/trial, best loss: 5.354695072530291]/home/ubuntu/anaconda3/envs/mlops-zoomcamp-module2/lib/python3.11/site-packages/sklearn/metrics/_regression.py:492: FutureWarning: 'squared' is deprecated in version 1.4 and will be removed in 1.6. To calculate the root mean squared error, use the function'root_mean_squared_error'.\n",
      "  warnings.warn(\n",
      "\n",
      " 73%|███████▎  | 11/15 [01:15<00:27,  6.76s/trial, best loss: 5.335419588556921]/home/ubuntu/anaconda3/envs/mlops-zoomcamp-module2/lib/python3.11/site-packages/sklearn/metrics/_regression.py:492: FutureWarning: 'squared' is deprecated in version 1.4 and will be removed in 1.6. To calculate the root mean squared error, use the function'root_mean_squared_error'.\n",
      "  warnings.warn(\n",
      "\n",
      " 80%|████████  | 12/15 [01:19<00:17,  5.90s/trial, best loss: 5.335419588556921]/home/ubuntu/anaconda3/envs/mlops-zoomcamp-module2/lib/python3.11/site-packages/sklearn/metrics/_regression.py:492: FutureWarning: 'squared' is deprecated in version 1.4 and will be removed in 1.6. To calculate the root mean squared error, use the function'root_mean_squared_error'.\n",
      "  warnings.warn(\n",
      "\n",
      " 87%|████████▋ | 13/15 [01:20<00:09,  4.51s/trial, best loss: 5.335419588556921]/home/ubuntu/anaconda3/envs/mlops-zoomcamp-module2/lib/python3.11/site-packages/sklearn/metrics/_regression.py:492: FutureWarning: 'squared' is deprecated in version 1.4 and will be removed in 1.6. To calculate the root mean squared error, use the function'root_mean_squared_error'.\n",
      "  warnings.warn(\n",
      "\n",
      " 93%|█████████▎| 14/15 [01:25<00:04,  4.65s/trial, best loss: 5.335419588556921]/home/ubuntu/anaconda3/envs/mlops-zoomcamp-module2/lib/python3.11/site-packages/sklearn/metrics/_regression.py:492: FutureWarning: 'squared' is deprecated in version 1.4 and will be removed in 1.6. To calculate the root mean squared error, use the function'root_mean_squared_error'.\n",
      "  warnings.warn(\n",
      "\n",
      "100%|██████████| 15/15 [01:33<00:00,  6.22s/trial, best loss: 5.335419588556921]\n"
     ]
    }
   ],
   "source": [
    "!python hpo.py"
   ]
  },
  {
   "cell_type": "markdown",
   "id": "0981ba52-cd72-47ce-8ab0-622fbd097bab",
   "metadata": {},
   "source": [
    "## Q6. Promote the best model to the model registry\n",
    "\n",
    "[](https://github.com/DataTalksClub/mlops-zoomcamp/blob/main/cohorts/2024/02-experiment-tracking/homework.md#q6-promote-the-best-model-to-the-model-registry)\n",
    "\n",
    "The results from the hyperparameter optimization are quite good. So, we can assume that we are ready to test some of these models in production. In this exercise, you'll promote the best model to the model registry. We have prepared a script called  `register_model.py`, which will check the results from the previous step and select the top 5 runs. After that, it will calculate the RMSE of those models on the test set (March 2023 data) and save the results to a new experiment called  `random-forest-best-models`.\n",
    "\n",
    "Your task is to update the script  `register_model.py`  so that it selects the model with the lowest RMSE on the test set and registers it to the model registry.\n",
    "\n",
    "Tip 1: you can use the method  `search_runs`  from the  `MlflowClient`  to get the model with the lowest RMSE,\n",
    "\n",
    "Tip 2: to register the model you can use the method  `mlflow.register_model`  and you will need to pass the right  `model_uri`  in the form of a string that looks like this:  `\"runs:/<RUN_ID>/model\"`, and the name of the model (make sure to choose a good one!).\n",
    "\n",
    "What is the test RMSE of the best model?\n",
    "\n",
    "-   5.060\n",
    "-   5.567\n",
    "-   6.061\n",
    "-   6.568\n",
    "\n",
    "## Answer\n",
    "\n",
    "  - ###  5.567"
   ]
  },
  {
   "cell_type": "code",
   "execution_count": 2,
   "id": "33fbde69-5653-4644-8d01-f5dde3a6b493",
   "metadata": {},
   "outputs": [
    {
     "name": "stdout",
     "output_type": "stream",
     "text": [
      "2024/06/23 14:04:49 INFO mlflow.tracking.fluent: Experiment with name 'random-forest-best-models' does not exist. Creating a new experiment.\n",
      "2024/06/23 14:04:49 WARNING mlflow.utils.autologging_utils: You are using an unsupported version of sklearn. If you encounter errors during autologging, try upgrading / downgrading sklearn to a supported version, or try upgrading MLflow.\n",
      "2024/06/23 14:04:51 WARNING mlflow.sklearn: Failed to log training dataset information to MLflow Tracking. Reason: 'numpy.ndarray' object has no attribute 'toarray'\n",
      "2024/06/23 14:05:00 WARNING mlflow.utils.autologging_utils: MLflow autologging encountered a warning: \"/home/ubuntu/anaconda3/envs/mlops-zoomcamp-module2/lib/python3.11/site-packages/_distutils_hack/__init__.py:26: UserWarning: Setuptools is replacing distutils.\"\n",
      "/home/ubuntu/anaconda3/envs/mlops-zoomcamp-module2/lib/python3.11/site-packages/sklearn/metrics/_regression.py:492: FutureWarning: 'squared' is deprecated in version 1.4 and will be removed in 1.6. To calculate the root mean squared error, use the function'root_mean_squared_error'.\n",
      "  warnings.warn(\n",
      "/home/ubuntu/anaconda3/envs/mlops-zoomcamp-module2/lib/python3.11/site-packages/sklearn/metrics/_regression.py:492: FutureWarning: 'squared' is deprecated in version 1.4 and will be removed in 1.6. To calculate the root mean squared error, use the function'root_mean_squared_error'.\n",
      "  warnings.warn(\n",
      "2024/06/23 14:05:06 WARNING mlflow.sklearn: Failed to log training dataset information to MLflow Tracking. Reason: 'numpy.ndarray' object has no attribute 'toarray'\n",
      "/home/ubuntu/anaconda3/envs/mlops-zoomcamp-module2/lib/python3.11/site-packages/sklearn/metrics/_regression.py:492: FutureWarning: 'squared' is deprecated in version 1.4 and will be removed in 1.6. To calculate the root mean squared error, use the function'root_mean_squared_error'.\n",
      "  warnings.warn(\n",
      "/home/ubuntu/anaconda3/envs/mlops-zoomcamp-module2/lib/python3.11/site-packages/sklearn/metrics/_regression.py:492: FutureWarning: 'squared' is deprecated in version 1.4 and will be removed in 1.6. To calculate the root mean squared error, use the function'root_mean_squared_error'.\n",
      "  warnings.warn(\n",
      "2024/06/23 14:05:28 WARNING mlflow.sklearn: Failed to log training dataset information to MLflow Tracking. Reason: 'numpy.ndarray' object has no attribute 'toarray'\n",
      "/home/ubuntu/anaconda3/envs/mlops-zoomcamp-module2/lib/python3.11/site-packages/sklearn/metrics/_regression.py:492: FutureWarning: 'squared' is deprecated in version 1.4 and will be removed in 1.6. To calculate the root mean squared error, use the function'root_mean_squared_error'.\n",
      "  warnings.warn(\n",
      "/home/ubuntu/anaconda3/envs/mlops-zoomcamp-module2/lib/python3.11/site-packages/sklearn/metrics/_regression.py:492: FutureWarning: 'squared' is deprecated in version 1.4 and will be removed in 1.6. To calculate the root mean squared error, use the function'root_mean_squared_error'.\n",
      "  warnings.warn(\n",
      "2024/06/23 14:05:44 WARNING mlflow.sklearn: Failed to log training dataset information to MLflow Tracking. Reason: 'numpy.ndarray' object has no attribute 'toarray'\n",
      "/home/ubuntu/anaconda3/envs/mlops-zoomcamp-module2/lib/python3.11/site-packages/sklearn/metrics/_regression.py:492: FutureWarning: 'squared' is deprecated in version 1.4 and will be removed in 1.6. To calculate the root mean squared error, use the function'root_mean_squared_error'.\n",
      "  warnings.warn(\n",
      "/home/ubuntu/anaconda3/envs/mlops-zoomcamp-module2/lib/python3.11/site-packages/sklearn/metrics/_regression.py:492: FutureWarning: 'squared' is deprecated in version 1.4 and will be removed in 1.6. To calculate the root mean squared error, use the function'root_mean_squared_error'.\n",
      "  warnings.warn(\n",
      "2024/06/23 14:06:00 WARNING mlflow.sklearn: Failed to log training dataset information to MLflow Tracking. Reason: 'numpy.ndarray' object has no attribute 'toarray'\n",
      "/home/ubuntu/anaconda3/envs/mlops-zoomcamp-module2/lib/python3.11/site-packages/sklearn/metrics/_regression.py:492: FutureWarning: 'squared' is deprecated in version 1.4 and will be removed in 1.6. To calculate the root mean squared error, use the function'root_mean_squared_error'.\n",
      "  warnings.warn(\n",
      "/home/ubuntu/anaconda3/envs/mlops-zoomcamp-module2/lib/python3.11/site-packages/sklearn/metrics/_regression.py:492: FutureWarning: 'squared' is deprecated in version 1.4 and will be removed in 1.6. To calculate the root mean squared error, use the function'root_mean_squared_error'.\n",
      "  warnings.warn(\n",
      "Successfully registered model 'rf-best-model'.\n",
      "2024/06/23 14:06:14 INFO mlflow.store.model_registry.abstract_store: Waiting up to 300 seconds for model version to finish creation. Model name: rf-best-model, version 1\n",
      "Created version '1' of model 'rf-best-model'.\n"
     ]
    }
   ],
   "source": [
    "!python register_model.py"
   ]
  }
 ],
 "metadata": {
  "kernelspec": {
   "display_name": "Python 3 (ipykernel)",
   "language": "python",
   "name": "python3"
  },
  "language_info": {
   "codemirror_mode": {
    "name": "ipython",
    "version": 3
   },
   "file_extension": ".py",
   "mimetype": "text/x-python",
   "name": "python",
   "nbconvert_exporter": "python",
   "pygments_lexer": "ipython3",
   "version": "3.11.7"
  }
 },
 "nbformat": 4,
 "nbformat_minor": 5
}
